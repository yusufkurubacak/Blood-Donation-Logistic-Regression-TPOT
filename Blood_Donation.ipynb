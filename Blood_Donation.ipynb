{
 "cells": [
  {
   "cell_type": "markdown",
   "id": "82236c9f-394b-42a0-b3a7-185ecf78c882",
   "metadata": {},
   "source": [
    "# Blood Donation Prediction with Logistic Regression"
   ]
  },
  {
   "cell_type": "markdown",
   "id": "1c140784-de48-4e5a-81ea-a93ca8979883",
   "metadata": {},
   "source": [
    "## Importing Libraries"
   ]
  },
  {
   "cell_type": "code",
   "execution_count": 1,
   "id": "bf2891d0-76e2-470a-bcdf-208075276767",
   "metadata": {},
   "outputs": [],
   "source": [
    "import matplotlib.pyplot as plt\n",
    "import numpy as np\n",
    "import pandas as pd\n",
    "import seaborn as sns\n",
    "from sklearn.model_selection import train_test_split\n",
    "from sklearn.preprocessing import StandardScaler \n",
    "from sklearn.linear_model import LogisticRegression\n",
    "from sklearn.metrics import roc_auc_score\n",
    "from tpot import TPOTClassifier"
   ]
  },
  {
   "cell_type": "markdown",
   "id": "3babc788-88be-4398-ad4f-6d8c4d9ef595",
   "metadata": {},
   "source": [
    "## Loading the Dataset"
   ]
  },
  {
   "cell_type": "code",
   "execution_count": 2,
   "id": "c996a87e-b9a7-44c2-9f41-6655b16ffd29",
   "metadata": {},
   "outputs": [
    {
     "data": {
      "text/html": [
       "<div>\n",
       "<style scoped>\n",
       "    .dataframe tbody tr th:only-of-type {\n",
       "        vertical-align: middle;\n",
       "    }\n",
       "\n",
       "    .dataframe tbody tr th {\n",
       "        vertical-align: top;\n",
       "    }\n",
       "\n",
       "    .dataframe thead th {\n",
       "        text-align: right;\n",
       "    }\n",
       "</style>\n",
       "<table border=\"1\" class=\"dataframe\">\n",
       "  <thead>\n",
       "    <tr style=\"text-align: right;\">\n",
       "      <th></th>\n",
       "      <th>Recency (months)</th>\n",
       "      <th>Frequency (times)</th>\n",
       "      <th>Monetary (c.c. blood)</th>\n",
       "      <th>Time (months)</th>\n",
       "      <th>whether he/she donated blood in March 2007</th>\n",
       "    </tr>\n",
       "  </thead>\n",
       "  <tbody>\n",
       "    <tr>\n",
       "      <th>0</th>\n",
       "      <td>2</td>\n",
       "      <td>50</td>\n",
       "      <td>12500</td>\n",
       "      <td>98</td>\n",
       "      <td>1</td>\n",
       "    </tr>\n",
       "    <tr>\n",
       "      <th>1</th>\n",
       "      <td>0</td>\n",
       "      <td>13</td>\n",
       "      <td>3250</td>\n",
       "      <td>28</td>\n",
       "      <td>1</td>\n",
       "    </tr>\n",
       "    <tr>\n",
       "      <th>2</th>\n",
       "      <td>1</td>\n",
       "      <td>16</td>\n",
       "      <td>4000</td>\n",
       "      <td>35</td>\n",
       "      <td>1</td>\n",
       "    </tr>\n",
       "    <tr>\n",
       "      <th>3</th>\n",
       "      <td>2</td>\n",
       "      <td>20</td>\n",
       "      <td>5000</td>\n",
       "      <td>45</td>\n",
       "      <td>1</td>\n",
       "    </tr>\n",
       "    <tr>\n",
       "      <th>4</th>\n",
       "      <td>1</td>\n",
       "      <td>24</td>\n",
       "      <td>6000</td>\n",
       "      <td>77</td>\n",
       "      <td>0</td>\n",
       "    </tr>\n",
       "  </tbody>\n",
       "</table>\n",
       "</div>"
      ],
      "text/plain": [
       "   Recency (months)  Frequency (times)  Monetary (c.c. blood)  Time (months)  \\\n",
       "0                 2                 50                  12500             98   \n",
       "1                 0                 13                   3250             28   \n",
       "2                 1                 16                   4000             35   \n",
       "3                 2                 20                   5000             45   \n",
       "4                 1                 24                   6000             77   \n",
       "\n",
       "   whether he/she donated blood in March 2007  \n",
       "0                                           1  \n",
       "1                                           1  \n",
       "2                                           1  \n",
       "3                                           1  \n",
       "4                                           0  "
      ]
     },
     "execution_count": 2,
     "metadata": {},
     "output_type": "execute_result"
    }
   ],
   "source": [
    "# Load the dataset into a Pandas DataFrame\n",
    "df_o = pd.read_csv(\"datasets/transfusion.data\")\n",
    "\n",
    "# Create a copy of the original dataset\n",
    "df = df_o.copy()\n",
    "# Now that the original dataframe 'df_o' stays unaltered, we can always get back to it to see the original dataset.\n",
    "\n",
    "# Print first 5 rows\n",
    "df.head(5)"
   ]
  },
  {
   "cell_type": "markdown",
   "id": "02528b7a-572a-46c6-8f74-448b50bd1084",
   "metadata": {},
   "source": [
    "##  Initial Exploration"
   ]
  },
  {
   "cell_type": "code",
   "execution_count": 3,
   "id": "29e8cab3-03c8-4241-ae9d-67f4c2b3c310",
   "metadata": {},
   "outputs": [
    {
     "name": "stdout",
     "output_type": "stream",
     "text": [
      "Number of rows: 748\n",
      "Number of columns: 5\n"
     ]
    }
   ],
   "source": [
    "# Shape of the dataset\n",
    "print(f\"Number of rows: {df.shape[0]}\\nNumber of columns: {df.shape[1]}\")"
   ]
  },
  {
   "cell_type": "code",
   "execution_count": 4,
   "id": "bb95f7fd-7f52-472e-9d7a-a4bfbe0bcb8d",
   "metadata": {},
   "outputs": [
    {
     "name": "stdout",
     "output_type": "stream",
     "text": [
      "<class 'pandas.core.frame.DataFrame'>\n",
      "RangeIndex: 748 entries, 0 to 747\n",
      "Data columns (total 5 columns):\n",
      " #   Column                                      Non-Null Count  Dtype\n",
      "---  ------                                      --------------  -----\n",
      " 0   Recency (months)                            748 non-null    int64\n",
      " 1   Frequency (times)                           748 non-null    int64\n",
      " 2   Monetary (c.c. blood)                       748 non-null    int64\n",
      " 3   Time (months)                               748 non-null    int64\n",
      " 4   whether he/she donated blood in March 2007  748 non-null    int64\n",
      "dtypes: int64(5)\n",
      "memory usage: 29.3 KB\n"
     ]
    }
   ],
   "source": [
    "# Display concise information about the dataset\n",
    "df.info()"
   ]
  },
  {
   "cell_type": "code",
   "execution_count": 5,
   "id": "c663ef99-f44a-4cb8-8f02-5ea9fb933bd8",
   "metadata": {},
   "outputs": [
    {
     "data": {
      "text/html": [
       "<div>\n",
       "<style scoped>\n",
       "    .dataframe tbody tr th:only-of-type {\n",
       "        vertical-align: middle;\n",
       "    }\n",
       "\n",
       "    .dataframe tbody tr th {\n",
       "        vertical-align: top;\n",
       "    }\n",
       "\n",
       "    .dataframe thead th {\n",
       "        text-align: right;\n",
       "    }\n",
       "</style>\n",
       "<table border=\"1\" class=\"dataframe\">\n",
       "  <thead>\n",
       "    <tr style=\"text-align: right;\">\n",
       "      <th></th>\n",
       "      <th>count</th>\n",
       "      <th>mean</th>\n",
       "      <th>std</th>\n",
       "      <th>min</th>\n",
       "      <th>25%</th>\n",
       "      <th>50%</th>\n",
       "      <th>75%</th>\n",
       "      <th>max</th>\n",
       "    </tr>\n",
       "  </thead>\n",
       "  <tbody>\n",
       "    <tr>\n",
       "      <th>Recency (months)</th>\n",
       "      <td>748.0</td>\n",
       "      <td>9.506684</td>\n",
       "      <td>8.095396</td>\n",
       "      <td>0.0</td>\n",
       "      <td>2.75</td>\n",
       "      <td>7.0</td>\n",
       "      <td>14.0</td>\n",
       "      <td>74.0</td>\n",
       "    </tr>\n",
       "    <tr>\n",
       "      <th>Frequency (times)</th>\n",
       "      <td>748.0</td>\n",
       "      <td>5.514706</td>\n",
       "      <td>5.839307</td>\n",
       "      <td>1.0</td>\n",
       "      <td>2.00</td>\n",
       "      <td>4.0</td>\n",
       "      <td>7.0</td>\n",
       "      <td>50.0</td>\n",
       "    </tr>\n",
       "    <tr>\n",
       "      <th>Monetary (c.c. blood)</th>\n",
       "      <td>748.0</td>\n",
       "      <td>1378.676471</td>\n",
       "      <td>1459.826781</td>\n",
       "      <td>250.0</td>\n",
       "      <td>500.00</td>\n",
       "      <td>1000.0</td>\n",
       "      <td>1750.0</td>\n",
       "      <td>12500.0</td>\n",
       "    </tr>\n",
       "    <tr>\n",
       "      <th>Time (months)</th>\n",
       "      <td>748.0</td>\n",
       "      <td>34.282086</td>\n",
       "      <td>24.376714</td>\n",
       "      <td>2.0</td>\n",
       "      <td>16.00</td>\n",
       "      <td>28.0</td>\n",
       "      <td>50.0</td>\n",
       "      <td>98.0</td>\n",
       "    </tr>\n",
       "    <tr>\n",
       "      <th>whether he/she donated blood in March 2007</th>\n",
       "      <td>748.0</td>\n",
       "      <td>0.237968</td>\n",
       "      <td>0.426124</td>\n",
       "      <td>0.0</td>\n",
       "      <td>0.00</td>\n",
       "      <td>0.0</td>\n",
       "      <td>0.0</td>\n",
       "      <td>1.0</td>\n",
       "    </tr>\n",
       "  </tbody>\n",
       "</table>\n",
       "</div>"
      ],
      "text/plain": [
       "                                            count         mean          std  \\\n",
       "Recency (months)                            748.0     9.506684     8.095396   \n",
       "Frequency (times)                           748.0     5.514706     5.839307   \n",
       "Monetary (c.c. blood)                       748.0  1378.676471  1459.826781   \n",
       "Time (months)                               748.0    34.282086    24.376714   \n",
       "whether he/she donated blood in March 2007  748.0     0.237968     0.426124   \n",
       "\n",
       "                                              min     25%     50%     75%  \\\n",
       "Recency (months)                              0.0    2.75     7.0    14.0   \n",
       "Frequency (times)                             1.0    2.00     4.0     7.0   \n",
       "Monetary (c.c. blood)                       250.0  500.00  1000.0  1750.0   \n",
       "Time (months)                                 2.0   16.00    28.0    50.0   \n",
       "whether he/she donated blood in March 2007    0.0    0.00     0.0     0.0   \n",
       "\n",
       "                                                max  \n",
       "Recency (months)                               74.0  \n",
       "Frequency (times)                              50.0  \n",
       "Monetary (c.c. blood)                       12500.0  \n",
       "Time (months)                                  98.0  \n",
       "whether he/she donated blood in March 2007      1.0  "
      ]
     },
     "execution_count": 5,
     "metadata": {},
     "output_type": "execute_result"
    }
   ],
   "source": [
    "# Generate descriptive statistics and transpose the result to increase readability\n",
    "df.describe().T"
   ]
  },
  {
   "cell_type": "code",
   "execution_count": 6,
   "id": "24361378-6578-4c22-b817-38b566f9118a",
   "metadata": {},
   "outputs": [
    {
     "data": {
      "text/plain": [
       "Recency (months)                              0\n",
       "Frequency (times)                             0\n",
       "Monetary (c.c. blood)                         0\n",
       "Time (months)                                 0\n",
       "whether he/she donated blood in March 2007    0\n",
       "dtype: int64"
      ]
     },
     "execution_count": 6,
     "metadata": {},
     "output_type": "execute_result"
    }
   ],
   "source": [
    "# See if there's any missing values in any of the column\n",
    "df.isnull().sum()"
   ]
  },
  {
   "cell_type": "code",
   "execution_count": 7,
   "id": "4e386ea0-54d6-41a6-a578-cf206ac09255",
   "metadata": {},
   "outputs": [
    {
     "data": {
      "text/plain": [
       "Recency (months)                              31\n",
       "Frequency (times)                             33\n",
       "Monetary (c.c. blood)                         33\n",
       "Time (months)                                 78\n",
       "whether he/she donated blood in March 2007     2\n",
       "dtype: int64"
      ]
     },
     "execution_count": 7,
     "metadata": {},
     "output_type": "execute_result"
    }
   ],
   "source": [
    "# Display the number of unique values in each column\n",
    "df.nunique()"
   ]
  },
  {
   "cell_type": "code",
   "execution_count": 8,
   "id": "1155b660-7a60-412c-bb8a-f2bfaa59c02b",
   "metadata": {},
   "outputs": [
    {
     "data": {
      "text/plain": [
       "215"
      ]
     },
     "execution_count": 8,
     "metadata": {},
     "output_type": "execute_result"
    }
   ],
   "source": [
    "# Display the number of duplicated rows\n",
    "df.duplicated().sum()"
   ]
  },
  {
   "cell_type": "markdown",
   "id": "73d6ca59-d480-49a5-957e-adb33d21aa0c",
   "metadata": {},
   "source": [
    "Since the numbers of unique values of the fields are very low, it is completely usual and normal to face with duplicated values in this dataset."
   ]
  },
  {
   "cell_type": "code",
   "execution_count": 9,
   "id": "6d444672-0e9c-42af-93b2-490ad7c618c1",
   "metadata": {},
   "outputs": [
    {
     "data": {
      "text/plain": [
       "whether he/she donated blood in March 2007\n",
       "0    0.762032\n",
       "1    0.237968\n",
       "Name: proportion, dtype: float64"
      ]
     },
     "execution_count": 9,
     "metadata": {},
     "output_type": "execute_result"
    }
   ],
   "source": [
    "# Check target incidence\n",
    "df['whether he/she donated blood in March 2007'].value_counts(normalize=True)"
   ]
  },
  {
   "cell_type": "markdown",
   "id": "117c0a73-575c-41b2-89dc-389d2c3bc818",
   "metadata": {},
   "source": [
    "## Data Preprocessing"
   ]
  },
  {
   "cell_type": "code",
   "execution_count": 10,
   "id": "06e4b04d-30f9-4f35-8987-cee277b75727",
   "metadata": {},
   "outputs": [],
   "source": [
    "# Change the target values' column name\n",
    "df.rename(\n",
    "    columns={\"whether he/she donated blood in March 2007\": \"target\",\n",
    "             \"Recency (months) \": \"Recency\",\n",
    "             \"Frequency (times)\": \"Frequency\",\n",
    "             \"Monetary (c.c. blood)\": \"Monetary\",\n",
    "             \"Time (months)\": \"Time\"\n",
    "            }, inplace=True\n",
    ")"
   ]
  },
  {
   "cell_type": "code",
   "execution_count": 16,
   "id": "b43e6a89-e213-487d-a201-d32324f85064",
   "metadata": {},
   "outputs": [],
   "source": [
    "# Split the data\n",
    "X_train, X_test, y_train, y_test = train_test_split(\n",
    "    df.drop(columns='target'),\n",
    "    df.target,\n",
    "    test_size=0.25,\n",
    "    random_state=999,\n",
    "    stratify= df.target)"
   ]
  },
  {
   "cell_type": "markdown",
   "id": "52220c74-780d-4ff4-bd07-a199b827d2ec",
   "metadata": {},
   "source": [
    "Target variable is given to 'stratify' parameter to split the y variable evenly between train and test sets."
   ]
  },
  {
   "cell_type": "markdown",
   "id": "1db1a6e6-122f-405f-b9f0-59c8940ade00",
   "metadata": {},
   "source": [
    "## Data Visualization"
   ]
  },
  {
   "cell_type": "code",
   "execution_count": 12,
   "id": "bc5b59be-92bb-4d34-a995-39b00dd79554",
   "metadata": {},
   "outputs": [
    {
     "data": {
      "image/png": "[encoded data removed]",
      "text/plain": [
       "<Figure size 1200x900 with 4 Axes>"
      ]
     },
     "metadata": {},
     "output_type": "display_data"
    }
   ],
   "source": [
    "# Create subplots\n",
    "fig, axes = plt.subplots(2, 2, figsize=(12, 9))\n",
    "\n",
    "# Plot histograms for each column\n",
    "sns.histplot(df.iloc[:, 0], ax=axes[0, 0])\n",
    "sns.histplot(df.iloc[:, 1], ax=axes[0, 1])\n",
    "sns.histplot(df.iloc[:, 2], ax=axes[1, 0])\n",
    "sns.histplot(df.iloc[:, 3], ax=axes[1, 1])\n",
    "\n",
    "# Set titles for each subplot\n",
    "axes[0, 0].set_title(\"Distribution of Recency\")\n",
    "axes[0, 1].set_title(\"Distribution of Frequency\")\n",
    "axes[1, 0].set_title(\"Distribution of Monetary\")\n",
    "axes[1, 1].set_title(\"Distribution of Time\")\n",
    "\n",
    "# Adjust layout\n",
    "plt.tight_layout()\n",
    "\n",
    "# Show the plot\n",
    "plt.show()"
   ]
  },
  {
   "cell_type": "code",
   "execution_count": 13,
   "id": "5154c3ef-36a5-4550-9022-d2877c8dce11",
   "metadata": {},
   "outputs": [
    {
     "data": {
      "image/png": "[encoded data removed]",
      "text/plain": [
       "<Figure size 640x480 with 2 Axes>"
      ]
     },
     "metadata": {},
     "output_type": "display_data"
    }
   ],
   "source": [
    "# Calculate Pearson's correlation values\n",
    "corr = df.corr()\n",
    "# Plot heatmap of corr values\n",
    "sns.heatmap(corr, cmap=\"Blues\", annot=True);"
   ]
  },
  {
   "cell_type": "markdown",
   "id": "08568a80-76d4-455b-b952-2a4ee9d8a9d5",
   "metadata": {},
   "source": [
    "250 cc is donated every time. That explains the full correlation between frequency and monetary.  \n",
    "Strong correlation between monetary, frequency and time. More visits, more blood, more time."
   ]
  },
  {
   "cell_type": "markdown",
   "id": "0c469b46-07ca-48da-a21f-b38912f4cb60",
   "metadata": {},
   "source": [
    "## Model Selection with TPOT"
   ]
  },
  {
   "cell_type": "code",
   "execution_count": 58,
   "id": "8473285f-d5c0-4b4a-b654-0b82eb27b72c",
   "metadata": {
    "scrolled": true
   },
   "outputs": [
    {
     "name": "stdout",
     "output_type": "stream",
     "text": [
      "                                                                                                                       \n",
      "Generation 1 - Current best internal CV score: 0.7474021069369906\n",
      "                                                                                                                       \n",
      "Generation 2 - Current best internal CV score: 0.7474021069369906\n",
      "                                                                                                                       \n",
      "Generation 3 - Current best internal CV score: 0.7492868528846641\n",
      "                                                                                                                       \n",
      "Generation 4 - Current best internal CV score: 0.7500729983903719\n",
      "                                                                                                                       \n",
      "Generation 5 - Current best internal CV score: 0.7500729983903719\n",
      "                                                                                                                       \n",
      "Best pipeline: LogisticRegression(StandardScaler(input_matrix), C=0.5, dual=False, penalty=l2)\n",
      "\n",
      "AUC score: 0.7599\n",
      "\n",
      "Best pipeline steps:\n",
      "1. StandardScaler()\n",
      "2. LogisticRegression(C=0.5, random_state=999)\n"
     ]
    }
   ],
   "source": [
    "# Instantiate TPOTClassifier(\n",
    "tpot = TPOTClassifier(\n",
    "    generations=5,\n",
    "    population_size=20,\n",
    "    verbosity=2,\n",
    "    scoring='roc_auc',\n",
    "    random_state=999,\n",
    "    disable_update_check=True,\n",
    "    config_dict= 'TPOT light'\n",
    ")\n",
    "tpot.fit(X_train, y_train)\n",
    "\n",
    "# AUC score for tpot model\n",
    "tpot_auc_score = roc_auc_score(y_test, tpot.predict_proba(X_test)[:, 1])\n",
    "print(f'\\nAUC score: {tpot_auc_score:.4f}')\n",
    "\n",
    "# Print best pipeline steps\n",
    "print('\\nBest pipeline steps:', end='\\n')\n",
    "for idx, (name, transform) in enumerate(tpot.fitted_pipeline_.steps, start=1):\n",
    "    # Print idx and transform\n",
    "    print(f'{idx}. {transform}')"
   ]
  },
  {
   "cell_type": "markdown",
   "id": "5d0f10f7-19eb-4727-9109-aff91d98bd62",
   "metadata": {},
   "source": [
    "## Scaling Data Using StandardScaler"
   ]
  },
  {
   "cell_type": "code",
   "execution_count": 62,
   "id": "65f24ccc-4fdd-46c2-ad7e-9206e90459cb",
   "metadata": {},
   "outputs": [],
   "source": [
    "# Create a StandardScaler object with default parameters\n",
    "scaler = StandardScaler()\n",
    "# Fit the scaler to the train and test data to scale it, create respective dataframes\n",
    "X_train_scaled = pd.DataFrame(scaler.fit_transform(X_train), X_train.index, X_train.columns)\n",
    "X_test_scaled = pd.DataFrame(scaler.fit_transform(X_test), X_test.index, X_test.columns)"
   ]
  },
  {
   "cell_type": "markdown",
   "id": "2203c98e-d870-4969-a2f4-9a49cc41996b",
   "metadata": {},
   "source": [
    "## Model Training and Prediction"
   ]
  },
  {
   "cell_type": "code",
   "execution_count": 64,
   "id": "ba7af7d8-fb36-4c95-85ab-b6f4c4a70775",
   "metadata": {},
   "outputs": [],
   "source": [
    "# Create a  LogisticRegression model using parameters determined by TPOT\n",
    "lr = LogisticRegression(C = 0.5, dual=False, penalty='l2', random_state = 999)\n",
    "# Fit the model on scaled data\n",
    "lr.fit(X_train_scaled, y_train)\n",
    "# Predict probability of binary classes using predict_proba\n",
    "predict = lr.predict_proba(X_test_scaled)"
   ]
  },
  {
   "cell_type": "markdown",
   "id": "ee04625f-9d96-4275-85bc-b7bf203aca0a",
   "metadata": {},
   "source": [
    "## Calculating AUC Score"
   ]
  },
  {
   "cell_type": "code",
   "execution_count": 67,
   "id": "f11cbe63-f189-4573-a638-1befc7dbd75c",
   "metadata": {},
   "outputs": [
    {
     "name": "stdout",
     "output_type": "stream",
     "text": [
      "\n",
      "AUC score: 0.7606\n"
     ]
    }
   ],
   "source": [
    "# Calculate the Area Under the ROC Curve (AUC) using the predicted probabilities\n",
    "lr_auc_score = roc_auc_score(y_test, predict[:, 1])\n",
    "# Print the AUC score\n",
    "print(f'\\nAUC score: {lr_auc_score:.4f}')"
   ]
  }
 ],
 "metadata": {
  "kernelspec": {
   "display_name": "Python 3 (ipykernel)",
   "language": "python",
   "name": "python3"
  },
  "language_info": {
   "codemirror_mode": {
    "name": "ipython",
    "version": 3
   },
   "file_extension": ".py",
   "mimetype": "text/x-python",
   "name": "python",
   "nbconvert_exporter": "python",
   "pygments_lexer": "ipython3",
   "version": "3.11.4"
  }
 },
 "nbformat": 4,
 "nbformat_minor": 5
}
